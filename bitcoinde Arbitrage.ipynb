{
 "cells": [
  {
   "cell_type": "markdown",
   "metadata": {},
   "source": [
    "# Trade Strong Price Deviations on Faster Spot Markets by Supplying Demand on Slower Executing Markets\n",
    "\n",
    "The premise of this bot is to establish a potential arbitrage opportunity that exists when slowly executing markets, e.g. those requiring bank transfers deviate too strongly from other spot markets. We could therefore buy on one, sell on the other and make profit.\n",
    "\n",
    "For this reason we need to do:\n",
    "\n",
    "- Get the price data from one spot market, e.g. Binance BTC/EUR\n",
    "- Get the price data from the slow market, e.g. Bitcoin.de\n",
    "- Constantly measure price deviation\n",
    "- And then if too high, put an offer on the one, and bid on the other\n",
    "- Repeat as long as there are funds"
   ]
  },
  {
   "cell_type": "code",
   "execution_count": 5,
   "metadata": {},
   "outputs": [
    {
     "name": "stdout",
     "output_type": "stream",
     "text": [
      "{'rate': {'rate_weighted': '61316.65000000', 'rate_weighted_3h': '61156.90961587', 'rate_weighted_12h': '61629.90826065'}, 'errors': [], 'credits': 20}\n"
     ]
    }
   ],
   "source": [
    "import requests\n",
    "import pandas as pd\n",
    "import matplotlib.pyplot as plt\n",
    "\n",
    "# Define the API endpoints for bitcoin.de and Bybit\n",
    "bitcoin_de_key = \"baee5b0755b0902a1e25a5e545a411c2\"\n",
    "bitcoin_de_pair = \"btceur\"\n",
    "bitcoin_de_url = f\"https://api.bitcoin.de/v4/{bitcoin_de_pair}/basic/rate.json?apikey={bitcoin_de_key}\"\n",
    "\n",
    "\n",
    "# Fetch BTC prices\n",
    "response_bitcoin_de = requests.get(bitcoin_de_url)\n",
    "\n",
    "data_bitcoin_de = response_bitcoin_de.json()\n",
    "\n",
    "# price_bitcoin_de = data_bitcoin_de['last']\n",
    "print(data_bitcoin_de)\n"
   ]
  },
  {
   "cell_type": "code",
   "execution_count": null,
   "metadata": {},
   "outputs": [],
   "source": [
    "import ccxt\n",
    "import pandas as pd\n",
    "\n",
    "# Create an exchange object for Binance\n",
    "exchange = ccxt.binance()\n",
    "\n",
    "# Define the trading pair (e.g., BTC/USDT)\n",
    "trading_pair = 'BTC/USDT'\n",
    "\n",
    "# Fetch real-time price data\n",
    "data = exchange.fetch_ticker(trading_pair)\n",
    "\n",
    "# Convert the data to a Pandas dataframe\n",
    "df_binance = pd.DataFrame([data], columns=['symbol', 'timestamp', 'last'])\n",
    "df_binance['timestamp'] = pd.to_datetime(df_binance['timestamp'], unit='ms')\n",
    "\n",
    "# Load the previously saved bitcoin.de dataframe\n",
    "df_bitcoin_de = pd.read_csv('bitcoin_prices.csv')\n",
    "\n",
    "# Merge the dataframes based on timestamp\n",
    "df_combined = pd.merge(df_bitcoin_de, df_binance, on='timestamp', suffixes=('_bitcoin_de', '_binance'))\n",
    "\n",
    "# Save the combined dataframe to a CSV file\n",
    "df_combined.to_csv('combined_prices.csv', index=False)\n",
    "\n",
    "print(f\"Combined Bitcoin price data saved to 'combined_prices.csv'.\")\n"
   ]
  },
  {
   "cell_type": "code",
   "execution_count": null,
   "metadata": {},
   "outputs": [],
   "source": [
    "import ccxt\n",
    "import pandas as pd\n",
    "\n",
    "# Create exchange objects for bitcoin.de and Bybit\n",
    "exchange_bitcoin_de = ccxt.bitcoinde()\n",
    "exchange_bybit = ccxt.bybit()\n",
    "\n",
    "# Define the trading pair (e.g., BTC/EUR)\n",
    "trading_pair = 'BTC/EUR'\n",
    "\n",
    "# Fetch BTC prices\n",
    "price_bitcoin_de = exchange_bitcoin_de.fetch_ticker(trading_pair)['last']\n",
    "price_bybit = exchange_bybit.fetch_ticker('BTC/USD')['last']\n",
    "\n",
    "# Calculate the price difference\n",
    "price_difference = price_bitcoin_de - price_bybit\n",
    "\n",
    "# Create a dataframe\n",
    "df = pd.DataFrame({\n",
    "    'Exchange': ['bitcoin.de', 'Bybit'],\n",
    "    'BTC Price': [price_bitcoin_de, price_bybit],\n",
    "    'Price Difference': [price_difference, -price_difference]  # Negative value for Bybit\n",
    "})\n",
    "\n",
    "# Save the dataframe to a CSV file\n",
    "df.to_csv('btc_price_difference.csv', index=False)\n",
    "\n",
    "print(f\"BTC price difference saved to 'btc_price_difference.csv'.\")\n"
   ]
  }
 ],
 "metadata": {
  "kernelspec": {
   "display_name": ".venv",
   "language": "python",
   "name": "python3"
  },
  "language_info": {
   "codemirror_mode": {
    "name": "ipython",
    "version": 3
   },
   "file_extension": ".py",
   "mimetype": "text/x-python",
   "name": "python",
   "nbconvert_exporter": "python",
   "pygments_lexer": "ipython3",
   "version": "3.12.2"
  }
 },
 "nbformat": 4,
 "nbformat_minor": 2
}
