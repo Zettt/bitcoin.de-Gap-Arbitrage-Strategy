{
 "cells": [
  {
   "cell_type": "code",
   "execution_count": 14,
   "metadata": {},
   "outputs": [],
   "source": [
    "import requests\n",
    "import hmac\n",
    "import hashlib\n",
    "import time\n",
    "from urllib.parse import urlparse\n",
    "from dotenv import load_dotenv\n",
    "import os\n",
    "\n",
    "# Load environment variables from .env file\n",
    "load_dotenv()\n",
    "\n",
    "# Get API credentials from environment variables\n",
    "BITCOINDE_API_KEY = os.getenv('BITCOINDE_API_KEY')\n",
    "BITCOINDE_API_SECRET = os.getenv('BITCOINDE_API_SECRET')"
   ]
  },
  {
   "cell_type": "code",
   "execution_count": 16,
   "metadata": {},
   "outputs": [
    {
     "name": "stdout",
     "output_type": "stream",
     "text": [
      "Error fetching orderbook: 400 Client Error: Bad Request for url: https://api.bitcoin.de/v4/btceur/orderbook\n",
      "Response: {\"errors\":[{\"message\":\"Invalid signature\",\"code\":5}],\"credits\":18}\n",
      "Failed to fetch orderbook data\n"
     ]
    }
   ],
   "source": [
    "def get_bitcoinde_signature(method, url, nonce, post_params=''):\n",
    "    # Extract path from full URL\n",
    "    path = urlparse(url).path\n",
    "    \n",
    "    # Create signature string according to Bitcoin.de documentation\n",
    "    hmac_data = '#'.join([\n",
    "        method.upper(),\n",
    "        path,  # Use path instead of full URL\n",
    "        BITCOINDE_API_KEY,\n",
    "        nonce,\n",
    "        post_params\n",
    "    ])\n",
    "    \n",
    "    try:\n",
    "        signature = hmac.new(\n",
    "            BITCOINDE_API_SECRET.encode('utf-8'),\n",
    "            hmac_data.encode('utf-8'),\n",
    "            hashlib.sha256\n",
    "        ).hexdigest()\n",
    "        return signature\n",
    "    except Exception as e:\n",
    "        print(f\"Error generating signature: {e}\")\n",
    "        return None\n",
    "\n",
    "def get_bitcoinde_orderbook():\n",
    "    url = 'https://api.bitcoin.de/v4/btceur/orderbook'\n",
    "    method = 'GET'\n",
    "    nonce = str(int(time.time() * 1000))  # Use millisecond precision\n",
    "    signature = get_bitcoinde_signature(method, url, nonce)\n",
    "    \n",
    "    if not signature:\n",
    "        return None\n",
    "    \n",
    "    headers = {\n",
    "        'X-API-KEY': BITCOINDE_API_KEY,\n",
    "        'X-API-NONCE': nonce,\n",
    "        'X-API-SIGNATURE': signature\n",
    "    }\n",
    "    \n",
    "    try:\n",
    "        response = requests.get(url, headers=headers)\n",
    "        response.raise_for_status()\n",
    "        return response.json()\n",
    "    except requests.exceptions.RequestException as e:\n",
    "        print(f\"Error fetching orderbook: {e}\")\n",
    "        if response.text:\n",
    "            print(f\"Response: {response.text}\")\n",
    "        return None\n",
    "\n",
    "# Fetch Bitcoin.de orderbook\n",
    "bitcoinde_orders = get_bitcoinde_orderbook()\n",
    "if bitcoinde_orders and 'asks' in bitcoinde_orders and 'bids' in bitcoinde_orders:\n",
    "    bitcoinde_best_ask = float(bitcoinde_orders['asks'][0]['price'])\n",
    "    bitcoinde_best_bid = float(bitcoinde_orders['bids'][0]['price'])\n",
    "    print(f\"Best ask: {bitcoinde_best_ask}\")\n",
    "    print(f\"Best bid: {bitcoinde_best_bid}\")\n",
    "else:\n",
    "    print(\"Failed to fetch orderbook data\")"
   ]
  },
  {
   "cell_type": "code",
   "execution_count": 13,
   "metadata": {},
   "outputs": [
    {
     "name": "stdout",
     "output_type": "stream",
     "text": [
      "Current Bitcoin Price: €76,275.99 EUR\n"
     ]
    }
   ],
   "source": [
    "# Fetch Binance BTC/EUR price directly\n",
    "try:\n",
    "    binance_response = requests.get('https://api.binance.com/api/v3/ticker/price?symbol=BTCEUR')\n",
    "    binance_response.raise_for_status()\n",
    "    binance_price_eur = float(binance_response.json()['price'])\n",
    "except Exception as e:\n",
    "    print(f\"Error fetching Binance price: {e}\")\n",
    "    exit()\n",
    "\n",
    "print(f'Current Bitcoin Price: €{binance_price_eur:,.2f} EUR')"
   ]
  },
  {
   "cell_type": "code",
   "execution_count": null,
   "metadata": {},
   "outputs": [],
   "source": [
    "print(f'Bitcoin.de Best Ask: €{bitcoinde_best_ask:,.2f}')\n",
    "print(f'Bitcoin.de Best Bid: €{bitcoinde_best_bid:,.2f}')\n",
    "print(f'Binance Price (EUR): €{binance_price_eur:,.2f}')"
   ]
  },
  {
   "cell_type": "code",
   "execution_count": null,
   "metadata": {},
   "outputs": [],
   "source": [
    "# Calculate price differences\n",
    "diff_ask = ((bitcoinde_best_ask - binance_price_eur) / binance_price_eur) * 100\n",
    "diff_bid = ((bitcoinde_best_bid - binance_price_eur) / binance_price_eur) * 100\n",
    "\n",
    "print(f'\\nPrice difference (Ask): {diff_ask:,.2f}%')\n",
    "print(f'Price difference (Bid): {diff_bid:,.2f}%')"
   ]
  }
 ],
 "metadata": {
  "kernelspec": {
   "display_name": ".venv",
   "language": "python",
   "name": "python3"
  },
  "language_info": {
   "codemirror_mode": {
    "name": "ipython",
    "version": 3
   },
   "file_extension": ".py",
   "mimetype": "text/x-python",
   "name": "python",
   "nbconvert_exporter": "python",
   "pygments_lexer": "ipython3",
   "version": "3.13.2"
  }
 },
 "nbformat": 4,
 "nbformat_minor": 2
}
